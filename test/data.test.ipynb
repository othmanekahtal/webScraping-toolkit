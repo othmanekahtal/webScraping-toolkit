{
 "cells": [
  {
   "cell_type": "code",
   "execution_count": 2,
   "metadata": {
    "collapsed": true
   },
   "outputs": [],
   "source": [
    "\n",
    "import pandas as pd"
   ]
  },
  {
   "cell_type": "markdown",
   "source": [
    "## We read json file that's contain data scraped using pandas:"
   ],
   "metadata": {
    "collapsed": false,
    "pycharm": {
     "name": "#%% md\n"
    }
   }
  },
  {
   "cell_type": "code",
   "execution_count": 6,
   "outputs": [
    {
     "data": {
      "text/plain": "                       name  \\\n0         ABC News (Online)   \n1                  AlterNet   \n2  AP Politics & Fact Check   \n3          Associated Press   \n4                     Axios   \n\n                                       allsides_page         bias  agree  \\\n0  https://www.allsides.com/news-source/abc-news-...  left-center  34459   \n1  https://www.allsides.com/news-source/alternet-...         left  13216   \n2  https://www.allsides.com/news-source/ap-fact-c...  left-center   4433   \n3  https://www.allsides.com/news-source/associate...       center  25950   \n4         https://www.allsides.com/news-source/axios       center   5707   \n\n   disagree  agree_ratio      agreeance_text                         website  \\\n0     17555     1.962917              agrees          http://abcnews.go.com/   \n1      2817     4.691516   absolutely agrees        http://www.alternet.org/   \n2      5184     0.855131  somewhat disagrees  https://apnews.com/APFactCheck   \n3     19832     1.308491     somewhat agrees             https://apnews.com/   \n4      6033     0.945964  somewhat disagrees          https://www.axios.com/   \n\n   total_votes  \n0        52014  \n1        16033  \n2         9617  \n3        45782  \n4        11740  ",
      "text/html": "<div>\n<style scoped>\n    .dataframe tbody tr th:only-of-type {\n        vertical-align: middle;\n    }\n\n    .dataframe tbody tr th {\n        vertical-align: top;\n    }\n\n    .dataframe thead th {\n        text-align: right;\n    }\n</style>\n<table border=\"1\" class=\"dataframe\">\n  <thead>\n    <tr style=\"text-align: right;\">\n      <th></th>\n      <th>name</th>\n      <th>allsides_page</th>\n      <th>bias</th>\n      <th>agree</th>\n      <th>disagree</th>\n      <th>agree_ratio</th>\n      <th>agreeance_text</th>\n      <th>website</th>\n      <th>total_votes</th>\n    </tr>\n  </thead>\n  <tbody>\n    <tr>\n      <th>0</th>\n      <td>ABC News (Online)</td>\n      <td>https://www.allsides.com/news-source/abc-news-...</td>\n      <td>left-center</td>\n      <td>34459</td>\n      <td>17555</td>\n      <td>1.962917</td>\n      <td>agrees</td>\n      <td>http://abcnews.go.com/</td>\n      <td>52014</td>\n    </tr>\n    <tr>\n      <th>1</th>\n      <td>AlterNet</td>\n      <td>https://www.allsides.com/news-source/alternet-...</td>\n      <td>left</td>\n      <td>13216</td>\n      <td>2817</td>\n      <td>4.691516</td>\n      <td>absolutely agrees</td>\n      <td>http://www.alternet.org/</td>\n      <td>16033</td>\n    </tr>\n    <tr>\n      <th>2</th>\n      <td>AP Politics &amp; Fact Check</td>\n      <td>https://www.allsides.com/news-source/ap-fact-c...</td>\n      <td>left-center</td>\n      <td>4433</td>\n      <td>5184</td>\n      <td>0.855131</td>\n      <td>somewhat disagrees</td>\n      <td>https://apnews.com/APFactCheck</td>\n      <td>9617</td>\n    </tr>\n    <tr>\n      <th>3</th>\n      <td>Associated Press</td>\n      <td>https://www.allsides.com/news-source/associate...</td>\n      <td>center</td>\n      <td>25950</td>\n      <td>19832</td>\n      <td>1.308491</td>\n      <td>somewhat agrees</td>\n      <td>https://apnews.com/</td>\n      <td>45782</td>\n    </tr>\n    <tr>\n      <th>4</th>\n      <td>Axios</td>\n      <td>https://www.allsides.com/news-source/axios</td>\n      <td>center</td>\n      <td>5707</td>\n      <td>6033</td>\n      <td>0.945964</td>\n      <td>somewhat disagrees</td>\n      <td>https://www.axios.com/</td>\n      <td>11740</td>\n    </tr>\n  </tbody>\n</table>\n</div>"
     },
     "execution_count": 6,
     "metadata": {},
     "output_type": "execute_result"
    }
   ],
   "source": [
    "df = pd.read_json('../content/json/allsides0.json')"
   ],
   "metadata": {
    "collapsed": false,
    "pycharm": {
     "name": "#%%\n"
    }
   }
  },
  {
   "cell_type": "markdown",
   "source": [
    "## add new cell contain a column that's contain total voters:"
   ],
   "metadata": {
    "collapsed": false,
    "pycharm": {
     "name": "#%% md\n"
    }
   }
  },
  {
   "cell_type": "code",
   "execution_count": 9,
   "outputs": [
    {
     "data": {
      "text/plain": "                       name  \\\n0         ABC News (Online)   \n1                  AlterNet   \n2  AP Politics & Fact Check   \n3          Associated Press   \n4                     Axios   \n\n                                       allsides_page         bias  agree  \\\n0  https://www.allsides.com/news-source/abc-news-...  left-center  34459   \n1  https://www.allsides.com/news-source/alternet-...         left  13216   \n2  https://www.allsides.com/news-source/ap-fact-c...  left-center   4433   \n3  https://www.allsides.com/news-source/associate...       center  25950   \n4         https://www.allsides.com/news-source/axios       center   5707   \n\n   disagree  agree_ratio      agreeance_text                         website  \\\n0     17555     1.962917              agrees          http://abcnews.go.com/   \n1      2817     4.691516   absolutely agrees        http://www.alternet.org/   \n2      5184     0.855131  somewhat disagrees  https://apnews.com/APFactCheck   \n3     19832     1.308491     somewhat agrees             https://apnews.com/   \n4      6033     0.945964  somewhat disagrees          https://www.axios.com/   \n\n   total_votes  \n0        52014  \n1        16033  \n2         9617  \n3        45782  \n4        11740  ",
      "text/html": "<div>\n<style scoped>\n    .dataframe tbody tr th:only-of-type {\n        vertical-align: middle;\n    }\n\n    .dataframe tbody tr th {\n        vertical-align: top;\n    }\n\n    .dataframe thead th {\n        text-align: right;\n    }\n</style>\n<table border=\"1\" class=\"dataframe\">\n  <thead>\n    <tr style=\"text-align: right;\">\n      <th></th>\n      <th>name</th>\n      <th>allsides_page</th>\n      <th>bias</th>\n      <th>agree</th>\n      <th>disagree</th>\n      <th>agree_ratio</th>\n      <th>agreeance_text</th>\n      <th>website</th>\n      <th>total_votes</th>\n    </tr>\n  </thead>\n  <tbody>\n    <tr>\n      <th>0</th>\n      <td>ABC News (Online)</td>\n      <td>https://www.allsides.com/news-source/abc-news-...</td>\n      <td>left-center</td>\n      <td>34459</td>\n      <td>17555</td>\n      <td>1.962917</td>\n      <td>agrees</td>\n      <td>http://abcnews.go.com/</td>\n      <td>52014</td>\n    </tr>\n    <tr>\n      <th>1</th>\n      <td>AlterNet</td>\n      <td>https://www.allsides.com/news-source/alternet-...</td>\n      <td>left</td>\n      <td>13216</td>\n      <td>2817</td>\n      <td>4.691516</td>\n      <td>absolutely agrees</td>\n      <td>http://www.alternet.org/</td>\n      <td>16033</td>\n    </tr>\n    <tr>\n      <th>2</th>\n      <td>AP Politics &amp; Fact Check</td>\n      <td>https://www.allsides.com/news-source/ap-fact-c...</td>\n      <td>left-center</td>\n      <td>4433</td>\n      <td>5184</td>\n      <td>0.855131</td>\n      <td>somewhat disagrees</td>\n      <td>https://apnews.com/APFactCheck</td>\n      <td>9617</td>\n    </tr>\n    <tr>\n      <th>3</th>\n      <td>Associated Press</td>\n      <td>https://www.allsides.com/news-source/associate...</td>\n      <td>center</td>\n      <td>25950</td>\n      <td>19832</td>\n      <td>1.308491</td>\n      <td>somewhat agrees</td>\n      <td>https://apnews.com/</td>\n      <td>45782</td>\n    </tr>\n    <tr>\n      <th>4</th>\n      <td>Axios</td>\n      <td>https://www.allsides.com/news-source/axios</td>\n      <td>center</td>\n      <td>5707</td>\n      <td>6033</td>\n      <td>0.945964</td>\n      <td>somewhat disagrees</td>\n      <td>https://www.axios.com/</td>\n      <td>11740</td>\n    </tr>\n  </tbody>\n</table>\n</div>"
     },
     "execution_count": 9,
     "metadata": {},
     "output_type": "execute_result"
    }
   ],
   "source": [
    "df['total_votes']=df['agree']+df['disagree']\n",
    "df.head()"
   ],
   "metadata": {
    "collapsed": false,
    "pycharm": {
     "name": "#%%\n"
    }
   }
  },
  {
   "cell_type": "markdown",
   "source": [
    "## save file as a csv file :"
   ],
   "metadata": {
    "collapsed": false
   }
  },
  {
   "cell_type": "code",
   "execution_count": 21,
   "outputs": [],
   "source": [
    "df.to_csv('../content/csv/allsides.csv')"
   ],
   "metadata": {
    "collapsed": false,
    "pycharm": {
     "name": "#%%\n"
    }
   }
  }
 ],
 "metadata": {
  "kernelspec": {
   "name": "pycharm-72d3e1",
   "language": "python",
   "display_name": "PyCharm (Web scraping)"
  },
  "language_info": {
   "codemirror_mode": {
    "name": "ipython",
    "version": 2
   },
   "file_extension": ".py",
   "mimetype": "text/x-python",
   "name": "python",
   "nbconvert_exporter": "python",
   "pygments_lexer": "ipython2",
   "version": "2.7.6"
  }
 },
 "nbformat": 4,
 "nbformat_minor": 0
}